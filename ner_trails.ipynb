{
  "nbformat": 4,
  "nbformat_minor": 0,
  "metadata": {
    "colab": {
      "name": "ner_trails.ipynb",
      "version": "0.3.2",
      "provenance": [],
      "toc_visible": true,
      "include_colab_link": true
    },
    "kernelspec": {
      "name": "python3",
      "display_name": "Python 3"
    },
    "accelerator": "GPU"
  },
  "cells": [
    {
      "cell_type": "markdown",
      "metadata": {
        "id": "view-in-github",
        "colab_type": "text"
      },
      "source": [
        "[View in Colaboratory](https://colab.research.google.com/github/prasad4fun/NLP/blob/master/ner_trails.ipynb)"
      ]
    },
    {
      "metadata": {
        "id": "QOdsFhw5v8a4",
        "colab_type": "code",
        "colab": {}
      },
      "cell_type": "code",
      "source": [
        "import  pandas  as  pd \n",
        "import  numpy  as  np"
      ],
      "execution_count": 0,
      "outputs": []
    },
    {
      "metadata": {
        "id": "iJfuPrBo0K4_",
        "colab_type": "code",
        "colab": {}
      },
      "cell_type": "code",
      "source": [
        "data = pd.read_csv(\"ner_dataset.csv\", encoding=\"latin1\")"
      ],
      "execution_count": 0,
      "outputs": []
    },
    {
      "metadata": {
        "id": "bvkS8w060WID",
        "colab_type": "code",
        "colab": {}
      },
      "cell_type": "code",
      "source": [
        "data = data.fillna(method=\"ffill\")"
      ],
      "execution_count": 0,
      "outputs": []
    },
    {
      "metadata": {
        "id": "im1RVatB0YW9",
        "colab_type": "code",
        "colab": {
          "base_uri": "https://localhost:8080/",
          "height": 359
        },
        "outputId": "597f9afb-ca01-4abd-aee3-0e5f63e82365"
      },
      "cell_type": "code",
      "source": [
        "data.head(10)"
      ],
      "execution_count": 7,
      "outputs": [
        {
          "output_type": "execute_result",
          "data": {
            "text/html": [
              "<div>\n",
              "<style scoped>\n",
              "    .dataframe tbody tr th:only-of-type {\n",
              "        vertical-align: middle;\n",
              "    }\n",
              "\n",
              "    .dataframe tbody tr th {\n",
              "        vertical-align: top;\n",
              "    }\n",
              "\n",
              "    .dataframe thead th {\n",
              "        text-align: right;\n",
              "    }\n",
              "</style>\n",
              "<table border=\"1\" class=\"dataframe\">\n",
              "  <thead>\n",
              "    <tr style=\"text-align: right;\">\n",
              "      <th></th>\n",
              "      <th>Sentence #</th>\n",
              "      <th>Word</th>\n",
              "      <th>POS</th>\n",
              "      <th>Tag</th>\n",
              "    </tr>\n",
              "  </thead>\n",
              "  <tbody>\n",
              "    <tr>\n",
              "      <th>0</th>\n",
              "      <td>Sentence: 1</td>\n",
              "      <td>Thousands</td>\n",
              "      <td>NNS</td>\n",
              "      <td>O</td>\n",
              "    </tr>\n",
              "    <tr>\n",
              "      <th>1</th>\n",
              "      <td>Sentence: 1</td>\n",
              "      <td>of</td>\n",
              "      <td>IN</td>\n",
              "      <td>O</td>\n",
              "    </tr>\n",
              "    <tr>\n",
              "      <th>2</th>\n",
              "      <td>Sentence: 1</td>\n",
              "      <td>demonstrators</td>\n",
              "      <td>NNS</td>\n",
              "      <td>O</td>\n",
              "    </tr>\n",
              "    <tr>\n",
              "      <th>3</th>\n",
              "      <td>Sentence: 1</td>\n",
              "      <td>have</td>\n",
              "      <td>VBP</td>\n",
              "      <td>O</td>\n",
              "    </tr>\n",
              "    <tr>\n",
              "      <th>4</th>\n",
              "      <td>Sentence: 1</td>\n",
              "      <td>marched</td>\n",
              "      <td>VBN</td>\n",
              "      <td>O</td>\n",
              "    </tr>\n",
              "    <tr>\n",
              "      <th>5</th>\n",
              "      <td>Sentence: 1</td>\n",
              "      <td>through</td>\n",
              "      <td>IN</td>\n",
              "      <td>O</td>\n",
              "    </tr>\n",
              "    <tr>\n",
              "      <th>6</th>\n",
              "      <td>Sentence: 1</td>\n",
              "      <td>London</td>\n",
              "      <td>NNP</td>\n",
              "      <td>B-geo</td>\n",
              "    </tr>\n",
              "    <tr>\n",
              "      <th>7</th>\n",
              "      <td>Sentence: 1</td>\n",
              "      <td>to</td>\n",
              "      <td>TO</td>\n",
              "      <td>O</td>\n",
              "    </tr>\n",
              "    <tr>\n",
              "      <th>8</th>\n",
              "      <td>Sentence: 1</td>\n",
              "      <td>protest</td>\n",
              "      <td>VB</td>\n",
              "      <td>O</td>\n",
              "    </tr>\n",
              "    <tr>\n",
              "      <th>9</th>\n",
              "      <td>Sentence: 1</td>\n",
              "      <td>the</td>\n",
              "      <td>DT</td>\n",
              "      <td>O</td>\n",
              "    </tr>\n",
              "  </tbody>\n",
              "</table>\n",
              "</div>"
            ],
            "text/plain": [
              "    Sentence #           Word  POS    Tag\n",
              "0  Sentence: 1      Thousands  NNS      O\n",
              "1  Sentence: 1             of   IN      O\n",
              "2  Sentence: 1  demonstrators  NNS      O\n",
              "3  Sentence: 1           have  VBP      O\n",
              "4  Sentence: 1        marched  VBN      O\n",
              "5  Sentence: 1        through   IN      O\n",
              "6  Sentence: 1         London  NNP  B-geo\n",
              "7  Sentence: 1             to   TO      O\n",
              "8  Sentence: 1        protest   VB      O\n",
              "9  Sentence: 1            the   DT      O"
            ]
          },
          "metadata": {
            "tags": []
          },
          "execution_count": 7
        }
      ]
    },
    {
      "metadata": {
        "id": "FNCAmFSh0b7j",
        "colab_type": "code",
        "colab": {}
      },
      "cell_type": "code",
      "source": [
        "words = list(set(data[\"Word\"].values))"
      ],
      "execution_count": 0,
      "outputs": []
    },
    {
      "metadata": {
        "id": "zKCaPwU70iVL",
        "colab_type": "code",
        "colab": {}
      },
      "cell_type": "code",
      "source": [
        "n_words = len(words)"
      ],
      "execution_count": 0,
      "outputs": []
    },
    {
      "metadata": {
        "id": "Jq33rl-P0k0H",
        "colab_type": "code",
        "colab": {}
      },
      "cell_type": "code",
      "source": [
        "class SentenceGetter(object):\n",
        "    \n",
        "    def __init__(self, data):\n",
        "        self.n_sent = 1\n",
        "        self.data = data\n",
        "        self.empty = False\n",
        "    \n",
        "    def get_next(self):\n",
        "        try:\n",
        "            s = self.data[self.data[\"Sentence #\"] == \"Sentence: {}\".format(self.n_sent)]\n",
        "            self.n_sent += 1\n",
        "            return s[\"Word\"].values.tolist(), s[\"POS\"].values.tolist(), s[\"Tag\"].values.tolist()    \n",
        "        except:\n",
        "            self.empty = True\n",
        "            return None, None, None"
      ],
      "execution_count": 0,
      "outputs": []
    },
    {
      "metadata": {
        "id": "ZW22hUxc0p7t",
        "colab_type": "code",
        "colab": {}
      },
      "cell_type": "code",
      "source": [
        "getter = SentenceGetter(data)"
      ],
      "execution_count": 0,
      "outputs": []
    },
    {
      "metadata": {
        "id": "j0gDUtHs0wTi",
        "colab_type": "code",
        "colab": {}
      },
      "cell_type": "code",
      "source": [
        "sent, pos, tag = getter.get_next()"
      ],
      "execution_count": 0,
      "outputs": []
    },
    {
      "metadata": {
        "id": "X5MMbtW203dE",
        "colab_type": "code",
        "colab": {
          "base_uri": "https://localhost:8080/",
          "height": 88
        },
        "outputId": "5bc0735f-f477-49f6-c462-62527823f255"
      },
      "cell_type": "code",
      "source": [
        "print(sent); print(pos); print(tag)"
      ],
      "execution_count": 13,
      "outputs": [
        {
          "output_type": "stream",
          "text": [
            "['Thousands', 'of', 'demonstrators', 'have', 'marched', 'through', 'London', 'to', 'protest', 'the', 'war', 'in', 'Iraq', 'and', 'demand', 'the', 'withdrawal', 'of', 'British', 'troops', 'from', 'that', 'country', '.']\n",
            "['NNS', 'IN', 'NNS', 'VBP', 'VBN', 'IN', 'NNP', 'TO', 'VB', 'DT', 'NN', 'IN', 'NNP', 'CC', 'VB', 'DT', 'NN', 'IN', 'JJ', 'NNS', 'IN', 'DT', 'NN', '.']\n",
            "['O', 'O', 'O', 'O', 'O', 'O', 'B-geo', 'O', 'O', 'O', 'O', 'O', 'B-geo', 'O', 'O', 'O', 'O', 'O', 'B-gpe', 'O', 'O', 'O', 'O', 'O']\n"
          ],
          "name": "stdout"
        }
      ]
    },
    {
      "metadata": {
        "id": "r5lVYevwMz2y",
        "colab_type": "text"
      },
      "cell_type": "markdown",
      "source": [
        "## **1 Memorization**"
      ]
    },
    {
      "metadata": {
        "id": "T71GGj39M45b",
        "colab_type": "code",
        "colab": {}
      },
      "cell_type": "code",
      "source": [
        "from sklearn.base import BaseEstimator, TransformerMixin"
      ],
      "execution_count": 0,
      "outputs": []
    },
    {
      "metadata": {
        "id": "sS5GNtt-NEPb",
        "colab_type": "code",
        "colab": {}
      },
      "cell_type": "code",
      "source": [
        "class  MemoryTagger ( BaseEstimator ,  TransformerMixin ):\n",
        "    \n",
        "    def fit(self, X, y):\n",
        "        '''\n",
        "        Expects a list of words as X and a list of tags as y.\n",
        "        '''\n",
        "        voc = {}\n",
        "        self.tags = []\n",
        "        for x, t in zip(X, y):\n",
        "            if t not in self.tags:\n",
        "                self.tags.append(t)\n",
        "            if x in voc:\n",
        "                if t in voc[x]:\n",
        "                    voc[x][t] += 1\n",
        "                else:\n",
        "                    voc[x][t] = 1\n",
        "            else:\n",
        "                voc[x] = {t: 1}\n",
        "        self.memory = {}\n",
        "        for k, d in voc.items():\n",
        "            self.memory[k] = max(d, key=d.get)\n",
        "    \n",
        "    def predict(self, X, y=None):\n",
        "        '''\n",
        "        Predict the the tag from memory. If word is unknown, predict 'O'.\n",
        "        '''\n",
        "        return [self.memory.get(x, 'O') for x in X]"
      ],
      "execution_count": 0,
      "outputs": []
    },
    {
      "metadata": {
        "id": "OK5iNixfNPDs",
        "colab_type": "code",
        "colab": {}
      },
      "cell_type": "code",
      "source": [
        "tagger = MemoryTagger()"
      ],
      "execution_count": 0,
      "outputs": []
    },
    {
      "metadata": {
        "id": "oXfQJHuENaSI",
        "colab_type": "code",
        "colab": {}
      },
      "cell_type": "code",
      "source": [
        "tagger.fit(sent, tag)"
      ],
      "execution_count": 0,
      "outputs": []
    },
    {
      "metadata": {
        "id": "wvqDVIv7Naz3",
        "colab_type": "code",
        "colab": {
          "base_uri": "https://localhost:8080/",
          "height": 54
        },
        "outputId": "f7001ec5-15e8-446a-d18b-0ae9182c3a05"
      },
      "cell_type": "code",
      "source": [
        "print(tagger.predict(sent))"
      ],
      "execution_count": 26,
      "outputs": [
        {
          "output_type": "stream",
          "text": [
            "['O', 'O', 'O', 'O', 'O', 'O', 'B-geo', 'O', 'O', 'O', 'O', 'O', 'B-geo', 'O', 'O', 'O', 'O', 'O', 'B-gpe', 'O', 'O', 'O', 'O', 'O']\n"
          ],
          "name": "stdout"
        }
      ]
    },
    {
      "metadata": {
        "id": "xCiR86p2Nc2-",
        "colab_type": "code",
        "colab": {
          "base_uri": "https://localhost:8080/",
          "height": 34
        },
        "outputId": "f1b86688-fc20-4308-f997-f38c2cef827d"
      },
      "cell_type": "code",
      "source": [
        "tagger.tags"
      ],
      "execution_count": 27,
      "outputs": [
        {
          "output_type": "execute_result",
          "data": {
            "text/plain": [
              "['O', 'B-geo', 'B-gpe']"
            ]
          },
          "metadata": {
            "tags": []
          },
          "execution_count": 27
        }
      ]
    },
    {
      "metadata": {
        "id": "xBKzF__KNtwC",
        "colab_type": "text"
      },
      "cell_type": "markdown",
      "source": [
        "###5-fold cross-validation"
      ]
    },
    {
      "metadata": {
        "id": "MYe4JTx4Nf6p",
        "colab_type": "code",
        "colab": {}
      },
      "cell_type": "code",
      "source": [
        "from sklearn.cross_validation import cross_val_predict\n",
        "from sklearn.metrics import classification_report"
      ],
      "execution_count": 0,
      "outputs": []
    },
    {
      "metadata": {
        "id": "9savBTudN6hl",
        "colab_type": "code",
        "colab": {}
      },
      "cell_type": "code",
      "source": [
        "words = data[\"Word\"].values.tolist()\n",
        "tags = data[\"Tag\"].values.tolist()"
      ],
      "execution_count": 0,
      "outputs": []
    },
    {
      "metadata": {
        "id": "EffDfFWCN-7f",
        "colab_type": "code",
        "colab": {}
      },
      "cell_type": "code",
      "source": [
        "pred = cross_val_predict(estimator=MemoryTagger(), X=words, y=tags, cv=5)"
      ],
      "execution_count": 0,
      "outputs": []
    },
    {
      "metadata": {
        "id": "JSjM-yDsOFPO",
        "colab_type": "code",
        "colab": {
          "base_uri": "https://localhost:8080/",
          "height": 391
        },
        "outputId": "a8694b03-821a-43c8-a3c8-f195834d184a"
      },
      "cell_type": "code",
      "source": [
        "report = classification_report(y_pred=pred, y_true=tags)\n",
        "print(report)"
      ],
      "execution_count": 31,
      "outputs": [
        {
          "output_type": "stream",
          "text": [
            "             precision    recall  f1-score   support\n",
            "\n",
            "      B-art       0.20      0.05      0.09       402\n",
            "      B-eve       0.54      0.25      0.34       308\n",
            "      B-geo       0.78      0.85      0.81     37644\n",
            "      B-gpe       0.94      0.93      0.94     15870\n",
            "      B-nat       0.42      0.28      0.33       201\n",
            "      B-org       0.67      0.49      0.56     20143\n",
            "      B-per       0.78      0.65      0.71     16990\n",
            "      B-tim       0.87      0.77      0.82     20333\n",
            "      I-art       0.04      0.01      0.01       297\n",
            "      I-eve       0.39      0.12      0.18       253\n",
            "      I-geo       0.73      0.58      0.65      7414\n",
            "      I-gpe       0.62      0.45      0.52       198\n",
            "      I-nat       0.00      0.00      0.00        51\n",
            "      I-org       0.69      0.53      0.60     16784\n",
            "      I-per       0.73      0.65      0.69     17251\n",
            "      I-tim       0.58      0.13      0.21      6528\n",
            "          O       0.97      0.99      0.98    887908\n",
            "\n",
            "avg / total       0.94      0.95      0.94   1048575\n",
            "\n"
          ],
          "name": "stdout"
        }
      ]
    },
    {
      "metadata": {
        "id": "RnrKQ8CHQ_cs",
        "colab_type": "text"
      },
      "cell_type": "markdown",
      "source": [
        "With simple memorization technique not that bad results. lets look at how we can improve it."
      ]
    },
    {
      "metadata": {
        "id": "ACB4GTN4QOfj",
        "colab_type": "text"
      },
      "cell_type": "markdown",
      "source": [
        "##2 Machine learning approach"
      ]
    },
    {
      "metadata": {
        "id": "2iqmFkGAOlNW",
        "colab_type": "code",
        "colab": {}
      },
      "cell_type": "code",
      "source": [
        "from  sklearn.ensemble  import  RandomForestClassifier"
      ],
      "execution_count": 0,
      "outputs": []
    },
    {
      "metadata": {
        "id": "bSz68ys8QYJn",
        "colab_type": "code",
        "colab": {}
      },
      "cell_type": "code",
      "source": [
        "def feature_map(word):\n",
        "    '''Simple feature map.'''\n",
        "    return np.array([word.istitle(), word.islower(), word.isupper(), len(word), word.isdigit(),  word.isalpha()])"
      ],
      "execution_count": 0,
      "outputs": []
    },
    {
      "metadata": {
        "id": "bnzN9ZEzQl-q",
        "colab_type": "code",
        "colab": {}
      },
      "cell_type": "code",
      "source": [
        "words = [feature_map(w) for w in data[\"Word\"].values.tolist()]"
      ],
      "execution_count": 0,
      "outputs": []
    },
    {
      "metadata": {
        "id": "9fSC0HDuQrFC",
        "colab_type": "code",
        "colab": {
          "base_uri": "https://localhost:8080/",
          "height": 34
        },
        "outputId": "1bc0e5a4-9c19-4a68-8923-1bd6c3b496d7"
      },
      "cell_type": "code",
      "source": [
        "words[1]"
      ],
      "execution_count": 35,
      "outputs": [
        {
          "output_type": "execute_result",
          "data": {
            "text/plain": [
              "array([0, 1, 0, 2, 0, 1])"
            ]
          },
          "metadata": {
            "tags": []
          },
          "execution_count": 35
        }
      ]
    },
    {
      "metadata": {
        "id": "Veg7HQ_LQsqg",
        "colab_type": "code",
        "colab": {}
      },
      "cell_type": "code",
      "source": [
        "pred = cross_val_predict(RandomForestClassifier(n_estimators=20), X=words, y=tags, cv=5)"
      ],
      "execution_count": 0,
      "outputs": []
    },
    {
      "metadata": {
        "id": "SR1Lne7eQ3rQ",
        "colab_type": "code",
        "colab": {
          "base_uri": "https://localhost:8080/",
          "height": 445
        },
        "outputId": "a6f6a8e2-db14-45c4-e220-c5b900dc2738"
      },
      "cell_type": "code",
      "source": [
        "report = classification_report(y_pred=pred, y_true=tags)\n",
        "print(report)"
      ],
      "execution_count": 41,
      "outputs": [
        {
          "output_type": "stream",
          "text": [
            "             precision    recall  f1-score   support\n",
            "\n",
            "      B-art       0.00      0.00      0.00       402\n",
            "      B-eve       0.00      0.00      0.00       308\n",
            "      B-geo       0.26      0.79      0.40     37644\n",
            "      B-gpe       0.26      0.06      0.09     15870\n",
            "      B-nat       0.00      0.00      0.00       201\n",
            "      B-org       0.65      0.17      0.27     20143\n",
            "      B-per       0.96      0.20      0.33     16990\n",
            "      B-tim       0.29      0.32      0.30     20333\n",
            "      I-art       0.00      0.00      0.00       297\n",
            "      I-eve       0.00      0.00      0.00       253\n",
            "      I-geo       0.00      0.00      0.00      7414\n",
            "      I-gpe       0.00      0.00      0.00       198\n",
            "      I-nat       0.00      0.00      0.00        51\n",
            "      I-org       0.36      0.03      0.06     16784\n",
            "      I-per       0.47      0.02      0.04     17251\n",
            "      I-tim       0.50      0.06      0.11      6528\n",
            "          O       0.97      0.98      0.97    887908\n",
            "\n",
            "avg / total       0.88      0.87      0.86   1048575\n",
            "\n"
          ],
          "name": "stdout"
        },
        {
          "output_type": "stream",
          "text": [
            "/usr/local/lib/python3.6/dist-packages/sklearn/metrics/classification.py:1135: UndefinedMetricWarning: Precision and F-score are ill-defined and being set to 0.0 in labels with no predicted samples.\n",
            "  'precision', 'predicted', average, warn_for)\n"
          ],
          "name": "stderr"
        }
      ]
    },
    {
      "metadata": {
        "id": "Spk-APD1RWYW",
        "colab_type": "text"
      },
      "cell_type": "markdown",
      "source": [
        "Really bad results, Features lack a lot of information. Lets enhance our simple features combining memory and context information.  "
      ]
    },
    {
      "metadata": {
        "id": "GOhR29Q2Sifd",
        "colab_type": "text"
      },
      "cell_type": "markdown",
      "source": [
        "##"
      ]
    },
    {
      "metadata": {
        "id": "zjaEUR4WRwmh",
        "colab_type": "code",
        "colab": {}
      },
      "cell_type": "code",
      "source": [
        "from  sklearn.preprocessing  import  LabelEncoder"
      ],
      "execution_count": 0,
      "outputs": []
    },
    {
      "metadata": {
        "id": "YTYtk8_eSv9p",
        "colab_type": "code",
        "colab": {}
      },
      "cell_type": "code",
      "source": [
        ""
      ],
      "execution_count": 0,
      "outputs": []
    }
  ]
}